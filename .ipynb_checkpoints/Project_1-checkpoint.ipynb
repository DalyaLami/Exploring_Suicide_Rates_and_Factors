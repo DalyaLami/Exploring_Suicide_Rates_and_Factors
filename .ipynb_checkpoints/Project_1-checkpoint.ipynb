{
 "cells": [
  {
   "cell_type": "code",
   "execution_count": 14,
   "id": "1d215909",
   "metadata": {},
   "outputs": [],
   "source": [
    "# Dependencies and Setup\n",
    "import matplotlib.pyplot as plt\n",
    "from pathlib import Path\n",
    "import pandas as pd\n",
    "import numpy as np\n",
    "import requests\n",
    "import time\n",
    "from scipy.stats import linregress\n"
   ]
  },
  {
   "cell_type": "code",
   "execution_count": 17,
   "id": "a51da22f",
   "metadata": {},
   "outputs": [],
   "source": [
    "# File to Load (Remember to Change These)\n",
    "primary_path = Path(\"C:\\\\Users\\\\jahn_\\\\Documents\\\\UofT\\\\GitHub\\\\Data-Analytics-Boot-Camp\\\\Project-1-bootcamp\\\\Datasets\\\\Suicide rates overview 1985 - 2021\\\\master.csv\")\n",
    "\n",
    "# Read  Data File and store into Pandas DataFrames\n",
    "primary_data = pd.read_csv(primary_path)\n",
    "\n",
    "# Combine the data into a single dataset.  \n"
   ]
  },
  {
   "cell_type": "code",
   "execution_count": 20,
   "id": "8ad9797c",
   "metadata": {},
   "outputs": [
    {
     "name": "stdout",
     "output_type": "stream",
     "text": [
      "   country  year     sex          age  suicides_no  population  \\\n",
      "0  Albania  1987    male  15-24 years         21.0      312900   \n",
      "1  Albania  1987    male  35-54 years         16.0      308000   \n",
      "2  Albania  1987  female  15-24 years         14.0      289700   \n",
      "3  Albania  1987    male    75+ years          1.0       21800   \n",
      "4  Albania  1987    male  25-34 years          9.0      274300   \n",
      "\n",
      "   suicides/100k pop country-year  HDI for year  gdp_for_year ($)   \\\n",
      "0               6.71  Albania1987           NaN     2,15,66,24,900   \n",
      "1               5.19  Albania1987           NaN     2,15,66,24,900   \n",
      "2               4.83  Albania1987           NaN     2,15,66,24,900   \n",
      "3               4.59  Albania1987           NaN     2,15,66,24,900   \n",
      "4               3.28  Albania1987           NaN     2,15,66,24,900   \n",
      "\n",
      "   gdp_per_capita ($)       generation  \n",
      "0               796.0     Generation X  \n",
      "1               796.0           Silent  \n",
      "2               796.0     Generation X  \n",
      "3               796.0  G.I. Generation  \n",
      "4               796.0          Boomers  \n"
     ]
    }
   ],
   "source": [
    "print(primary_data.head())"
   ]
  },
  {
   "cell_type": "code",
   "execution_count": null,
   "id": "91cd1952",
   "metadata": {},
   "outputs": [],
   "source": []
  },
  {
   "cell_type": "code",
   "execution_count": null,
   "id": "4fa7af1c",
   "metadata": {},
   "outputs": [],
   "source": []
  }
 ],
 "metadata": {
  "kernelspec": {
   "display_name": "Python 3 (ipykernel)",
   "language": "python",
   "name": "python3"
  },
  "language_info": {
   "codemirror_mode": {
    "name": "ipython",
    "version": 3
   },
   "file_extension": ".py",
   "mimetype": "text/x-python",
   "name": "python",
   "nbconvert_exporter": "python",
   "pygments_lexer": "ipython3",
   "version": "3.11.4"
  }
 },
 "nbformat": 4,
 "nbformat_minor": 5
}
